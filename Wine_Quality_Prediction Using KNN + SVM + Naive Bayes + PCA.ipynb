{
 "cells": [
  {
   "cell_type": "code",
   "execution_count": 1,
   "metadata": {},
   "outputs": [],
   "source": [
    "#Importing the necessary  libraries\n",
    "import pandas as pd\n",
    "import numpy as np\n",
    "import matplotlib.pyplot as plt\n",
    "import seaborn as sns\n",
    "import warnings \n",
    "warnings.filterwarnings('ignore')"
   ]
  },
  {
   "cell_type": "code",
   "execution_count": 2,
   "metadata": {},
   "outputs": [],
   "source": [
    "#Creating a dataframe\n",
    "wine_data = pd.read_csv(r'C:\\Users\\Amal\\Downloads\\KNN + SVM + Naive Bayes + PCA\\Wine.csv',\n",
    "                             header=0)"
   ]
  },
  {
   "cell_type": "code",
   "execution_count": 3,
   "metadata": {},
   "outputs": [
    {
     "data": {
      "text/html": [
       "<div>\n",
       "<style scoped>\n",
       "    .dataframe tbody tr th:only-of-type {\n",
       "        vertical-align: middle;\n",
       "    }\n",
       "\n",
       "    .dataframe tbody tr th {\n",
       "        vertical-align: top;\n",
       "    }\n",
       "\n",
       "    .dataframe thead th {\n",
       "        text-align: right;\n",
       "    }\n",
       "</style>\n",
       "<table border=\"1\" class=\"dataframe\">\n",
       "  <thead>\n",
       "    <tr style=\"text-align: right;\">\n",
       "      <th></th>\n",
       "      <th>Alcohol</th>\n",
       "      <th>Malic_Acid</th>\n",
       "      <th>Ash</th>\n",
       "      <th>Ash_Alcanity</th>\n",
       "      <th>Magnesium</th>\n",
       "      <th>Total_Phenols</th>\n",
       "      <th>Flavanoids</th>\n",
       "      <th>Nonflavanoid_Phenols</th>\n",
       "      <th>Proanthocyanins</th>\n",
       "      <th>Color_Intensity</th>\n",
       "      <th>Hue</th>\n",
       "      <th>OD280</th>\n",
       "      <th>Proline</th>\n",
       "      <th>Customer_Segment</th>\n",
       "    </tr>\n",
       "  </thead>\n",
       "  <tbody>\n",
       "    <tr>\n",
       "      <th>0</th>\n",
       "      <td>14.23</td>\n",
       "      <td>1.71</td>\n",
       "      <td>2.43</td>\n",
       "      <td>15.6</td>\n",
       "      <td>127</td>\n",
       "      <td>2.80</td>\n",
       "      <td>3.06</td>\n",
       "      <td>0.28</td>\n",
       "      <td>2.29</td>\n",
       "      <td>5.64</td>\n",
       "      <td>1.04</td>\n",
       "      <td>3.92</td>\n",
       "      <td>1065</td>\n",
       "      <td>1</td>\n",
       "    </tr>\n",
       "    <tr>\n",
       "      <th>1</th>\n",
       "      <td>13.20</td>\n",
       "      <td>1.78</td>\n",
       "      <td>2.14</td>\n",
       "      <td>11.2</td>\n",
       "      <td>100</td>\n",
       "      <td>2.65</td>\n",
       "      <td>2.76</td>\n",
       "      <td>0.26</td>\n",
       "      <td>1.28</td>\n",
       "      <td>4.38</td>\n",
       "      <td>1.05</td>\n",
       "      <td>3.40</td>\n",
       "      <td>1050</td>\n",
       "      <td>1</td>\n",
       "    </tr>\n",
       "    <tr>\n",
       "      <th>2</th>\n",
       "      <td>13.16</td>\n",
       "      <td>2.36</td>\n",
       "      <td>2.67</td>\n",
       "      <td>18.6</td>\n",
       "      <td>101</td>\n",
       "      <td>2.80</td>\n",
       "      <td>3.24</td>\n",
       "      <td>0.30</td>\n",
       "      <td>2.81</td>\n",
       "      <td>5.68</td>\n",
       "      <td>1.03</td>\n",
       "      <td>3.17</td>\n",
       "      <td>1185</td>\n",
       "      <td>1</td>\n",
       "    </tr>\n",
       "    <tr>\n",
       "      <th>3</th>\n",
       "      <td>14.37</td>\n",
       "      <td>1.95</td>\n",
       "      <td>2.50</td>\n",
       "      <td>16.8</td>\n",
       "      <td>113</td>\n",
       "      <td>3.85</td>\n",
       "      <td>3.49</td>\n",
       "      <td>0.24</td>\n",
       "      <td>2.18</td>\n",
       "      <td>7.80</td>\n",
       "      <td>0.86</td>\n",
       "      <td>3.45</td>\n",
       "      <td>1480</td>\n",
       "      <td>1</td>\n",
       "    </tr>\n",
       "    <tr>\n",
       "      <th>4</th>\n",
       "      <td>13.24</td>\n",
       "      <td>2.59</td>\n",
       "      <td>2.87</td>\n",
       "      <td>21.0</td>\n",
       "      <td>118</td>\n",
       "      <td>2.80</td>\n",
       "      <td>2.69</td>\n",
       "      <td>0.39</td>\n",
       "      <td>1.82</td>\n",
       "      <td>4.32</td>\n",
       "      <td>1.04</td>\n",
       "      <td>2.93</td>\n",
       "      <td>735</td>\n",
       "      <td>1</td>\n",
       "    </tr>\n",
       "  </tbody>\n",
       "</table>\n",
       "</div>"
      ],
      "text/plain": [
       "   Alcohol  Malic_Acid   Ash  Ash_Alcanity  Magnesium  Total_Phenols  \\\n",
       "0    14.23        1.71  2.43          15.6        127           2.80   \n",
       "1    13.20        1.78  2.14          11.2        100           2.65   \n",
       "2    13.16        2.36  2.67          18.6        101           2.80   \n",
       "3    14.37        1.95  2.50          16.8        113           3.85   \n",
       "4    13.24        2.59  2.87          21.0        118           2.80   \n",
       "\n",
       "   Flavanoids  Nonflavanoid_Phenols  Proanthocyanins  Color_Intensity   Hue  \\\n",
       "0        3.06                  0.28             2.29             5.64  1.04   \n",
       "1        2.76                  0.26             1.28             4.38  1.05   \n",
       "2        3.24                  0.30             2.81             5.68  1.03   \n",
       "3        3.49                  0.24             2.18             7.80  0.86   \n",
       "4        2.69                  0.39             1.82             4.32  1.04   \n",
       "\n",
       "   OD280  Proline  Customer_Segment  \n",
       "0   3.92     1065                 1  \n",
       "1   3.40     1050                 1  \n",
       "2   3.17     1185                 1  \n",
       "3   3.45     1480                 1  \n",
       "4   2.93      735                 1  "
      ]
     },
     "execution_count": 3,
     "metadata": {},
     "output_type": "execute_result"
    }
   ],
   "source": [
    "wine_data.head()"
   ]
  },
  {
   "cell_type": "code",
   "execution_count": 4,
   "metadata": {},
   "outputs": [
    {
     "data": {
      "text/plain": [
       "(178, 14)"
      ]
     },
     "execution_count": 4,
     "metadata": {},
     "output_type": "execute_result"
    }
   ],
   "source": [
    "wine_data.shape"
   ]
  },
  {
   "cell_type": "markdown",
   "metadata": {},
   "source": [
    "# Q.1 Compute and plot those feature which are related to each other?"
   ]
  },
  {
   "cell_type": "code",
   "execution_count": 5,
   "metadata": {},
   "outputs": [
    {
     "data": {
      "text/html": [
       "<div>\n",
       "<style scoped>\n",
       "    .dataframe tbody tr th:only-of-type {\n",
       "        vertical-align: middle;\n",
       "    }\n",
       "\n",
       "    .dataframe tbody tr th {\n",
       "        vertical-align: top;\n",
       "    }\n",
       "\n",
       "    .dataframe thead th {\n",
       "        text-align: right;\n",
       "    }\n",
       "</style>\n",
       "<table border=\"1\" class=\"dataframe\">\n",
       "  <thead>\n",
       "    <tr style=\"text-align: right;\">\n",
       "      <th></th>\n",
       "      <th>Alcohol</th>\n",
       "      <th>Malic_Acid</th>\n",
       "      <th>Ash</th>\n",
       "      <th>Ash_Alcanity</th>\n",
       "      <th>Magnesium</th>\n",
       "      <th>Total_Phenols</th>\n",
       "      <th>Flavanoids</th>\n",
       "      <th>Nonflavanoid_Phenols</th>\n",
       "      <th>Proanthocyanins</th>\n",
       "      <th>Color_Intensity</th>\n",
       "      <th>Hue</th>\n",
       "      <th>OD280</th>\n",
       "      <th>Proline</th>\n",
       "      <th>Customer_Segment</th>\n",
       "    </tr>\n",
       "  </thead>\n",
       "  <tbody>\n",
       "    <tr>\n",
       "      <th>count</th>\n",
       "      <td>178.000000</td>\n",
       "      <td>178.000000</td>\n",
       "      <td>178.000000</td>\n",
       "      <td>178.000000</td>\n",
       "      <td>178.000000</td>\n",
       "      <td>178.000000</td>\n",
       "      <td>178.000000</td>\n",
       "      <td>178.000000</td>\n",
       "      <td>178.000000</td>\n",
       "      <td>178.000000</td>\n",
       "      <td>178.000000</td>\n",
       "      <td>178.000000</td>\n",
       "      <td>178.000000</td>\n",
       "      <td>178.000000</td>\n",
       "    </tr>\n",
       "    <tr>\n",
       "      <th>mean</th>\n",
       "      <td>13.000618</td>\n",
       "      <td>2.336348</td>\n",
       "      <td>2.366517</td>\n",
       "      <td>19.494944</td>\n",
       "      <td>99.741573</td>\n",
       "      <td>2.295112</td>\n",
       "      <td>2.029270</td>\n",
       "      <td>0.361854</td>\n",
       "      <td>1.590899</td>\n",
       "      <td>5.058090</td>\n",
       "      <td>0.957449</td>\n",
       "      <td>2.611685</td>\n",
       "      <td>746.893258</td>\n",
       "      <td>1.938202</td>\n",
       "    </tr>\n",
       "    <tr>\n",
       "      <th>std</th>\n",
       "      <td>0.811827</td>\n",
       "      <td>1.117146</td>\n",
       "      <td>0.274344</td>\n",
       "      <td>3.339564</td>\n",
       "      <td>14.282484</td>\n",
       "      <td>0.625851</td>\n",
       "      <td>0.998859</td>\n",
       "      <td>0.124453</td>\n",
       "      <td>0.572359</td>\n",
       "      <td>2.318286</td>\n",
       "      <td>0.228572</td>\n",
       "      <td>0.709990</td>\n",
       "      <td>314.907474</td>\n",
       "      <td>0.775035</td>\n",
       "    </tr>\n",
       "    <tr>\n",
       "      <th>min</th>\n",
       "      <td>11.030000</td>\n",
       "      <td>0.740000</td>\n",
       "      <td>1.360000</td>\n",
       "      <td>10.600000</td>\n",
       "      <td>70.000000</td>\n",
       "      <td>0.980000</td>\n",
       "      <td>0.340000</td>\n",
       "      <td>0.130000</td>\n",
       "      <td>0.410000</td>\n",
       "      <td>1.280000</td>\n",
       "      <td>0.480000</td>\n",
       "      <td>1.270000</td>\n",
       "      <td>278.000000</td>\n",
       "      <td>1.000000</td>\n",
       "    </tr>\n",
       "    <tr>\n",
       "      <th>25%</th>\n",
       "      <td>12.362500</td>\n",
       "      <td>1.602500</td>\n",
       "      <td>2.210000</td>\n",
       "      <td>17.200000</td>\n",
       "      <td>88.000000</td>\n",
       "      <td>1.742500</td>\n",
       "      <td>1.205000</td>\n",
       "      <td>0.270000</td>\n",
       "      <td>1.250000</td>\n",
       "      <td>3.220000</td>\n",
       "      <td>0.782500</td>\n",
       "      <td>1.937500</td>\n",
       "      <td>500.500000</td>\n",
       "      <td>1.000000</td>\n",
       "    </tr>\n",
       "    <tr>\n",
       "      <th>50%</th>\n",
       "      <td>13.050000</td>\n",
       "      <td>1.865000</td>\n",
       "      <td>2.360000</td>\n",
       "      <td>19.500000</td>\n",
       "      <td>98.000000</td>\n",
       "      <td>2.355000</td>\n",
       "      <td>2.135000</td>\n",
       "      <td>0.340000</td>\n",
       "      <td>1.555000</td>\n",
       "      <td>4.690000</td>\n",
       "      <td>0.965000</td>\n",
       "      <td>2.780000</td>\n",
       "      <td>673.500000</td>\n",
       "      <td>2.000000</td>\n",
       "    </tr>\n",
       "    <tr>\n",
       "      <th>75%</th>\n",
       "      <td>13.677500</td>\n",
       "      <td>3.082500</td>\n",
       "      <td>2.557500</td>\n",
       "      <td>21.500000</td>\n",
       "      <td>107.000000</td>\n",
       "      <td>2.800000</td>\n",
       "      <td>2.875000</td>\n",
       "      <td>0.437500</td>\n",
       "      <td>1.950000</td>\n",
       "      <td>6.200000</td>\n",
       "      <td>1.120000</td>\n",
       "      <td>3.170000</td>\n",
       "      <td>985.000000</td>\n",
       "      <td>3.000000</td>\n",
       "    </tr>\n",
       "    <tr>\n",
       "      <th>max</th>\n",
       "      <td>14.830000</td>\n",
       "      <td>5.800000</td>\n",
       "      <td>3.230000</td>\n",
       "      <td>30.000000</td>\n",
       "      <td>162.000000</td>\n",
       "      <td>3.880000</td>\n",
       "      <td>5.080000</td>\n",
       "      <td>0.660000</td>\n",
       "      <td>3.580000</td>\n",
       "      <td>13.000000</td>\n",
       "      <td>1.710000</td>\n",
       "      <td>4.000000</td>\n",
       "      <td>1680.000000</td>\n",
       "      <td>3.000000</td>\n",
       "    </tr>\n",
       "  </tbody>\n",
       "</table>\n",
       "</div>"
      ],
      "text/plain": [
       "          Alcohol  Malic_Acid         Ash  Ash_Alcanity   Magnesium  \\\n",
       "count  178.000000  178.000000  178.000000    178.000000  178.000000   \n",
       "mean    13.000618    2.336348    2.366517     19.494944   99.741573   \n",
       "std      0.811827    1.117146    0.274344      3.339564   14.282484   \n",
       "min     11.030000    0.740000    1.360000     10.600000   70.000000   \n",
       "25%     12.362500    1.602500    2.210000     17.200000   88.000000   \n",
       "50%     13.050000    1.865000    2.360000     19.500000   98.000000   \n",
       "75%     13.677500    3.082500    2.557500     21.500000  107.000000   \n",
       "max     14.830000    5.800000    3.230000     30.000000  162.000000   \n",
       "\n",
       "       Total_Phenols  Flavanoids  Nonflavanoid_Phenols  Proanthocyanins  \\\n",
       "count     178.000000  178.000000            178.000000       178.000000   \n",
       "mean        2.295112    2.029270              0.361854         1.590899   \n",
       "std         0.625851    0.998859              0.124453         0.572359   \n",
       "min         0.980000    0.340000              0.130000         0.410000   \n",
       "25%         1.742500    1.205000              0.270000         1.250000   \n",
       "50%         2.355000    2.135000              0.340000         1.555000   \n",
       "75%         2.800000    2.875000              0.437500         1.950000   \n",
       "max         3.880000    5.080000              0.660000         3.580000   \n",
       "\n",
       "       Color_Intensity         Hue       OD280      Proline  Customer_Segment  \n",
       "count       178.000000  178.000000  178.000000   178.000000        178.000000  \n",
       "mean          5.058090    0.957449    2.611685   746.893258          1.938202  \n",
       "std           2.318286    0.228572    0.709990   314.907474          0.775035  \n",
       "min           1.280000    0.480000    1.270000   278.000000          1.000000  \n",
       "25%           3.220000    0.782500    1.937500   500.500000          1.000000  \n",
       "50%           4.690000    0.965000    2.780000   673.500000          2.000000  \n",
       "75%           6.200000    1.120000    3.170000   985.000000          3.000000  \n",
       "max          13.000000    1.710000    4.000000  1680.000000          3.000000  "
      ]
     },
     "execution_count": 5,
     "metadata": {},
     "output_type": "execute_result"
    }
   ],
   "source": [
    "wine_data.describe()"
   ]
  },
  {
   "cell_type": "code",
   "execution_count": 7,
   "metadata": {},
   "outputs": [
    {
     "data": {
      "text/plain": [
       "<bound method DataFrame.info of      Alcohol  Malic_Acid   Ash  Ash_Alcanity  Magnesium  Total_Phenols  \\\n",
       "0      14.23        1.71  2.43          15.6        127           2.80   \n",
       "1      13.20        1.78  2.14          11.2        100           2.65   \n",
       "2      13.16        2.36  2.67          18.6        101           2.80   \n",
       "3      14.37        1.95  2.50          16.8        113           3.85   \n",
       "4      13.24        2.59  2.87          21.0        118           2.80   \n",
       "..       ...         ...   ...           ...        ...            ...   \n",
       "173    13.71        5.65  2.45          20.5         95           1.68   \n",
       "174    13.40        3.91  2.48          23.0        102           1.80   \n",
       "175    13.27        4.28  2.26          20.0        120           1.59   \n",
       "176    13.17        2.59  2.37          20.0        120           1.65   \n",
       "177    14.13        4.10  2.74          24.5         96           2.05   \n",
       "\n",
       "     Flavanoids  Nonflavanoid_Phenols  Proanthocyanins  Color_Intensity   Hue  \\\n",
       "0          3.06                  0.28             2.29             5.64  1.04   \n",
       "1          2.76                  0.26             1.28             4.38  1.05   \n",
       "2          3.24                  0.30             2.81             5.68  1.03   \n",
       "3          3.49                  0.24             2.18             7.80  0.86   \n",
       "4          2.69                  0.39             1.82             4.32  1.04   \n",
       "..          ...                   ...              ...              ...   ...   \n",
       "173        0.61                  0.52             1.06             7.70  0.64   \n",
       "174        0.75                  0.43             1.41             7.30  0.70   \n",
       "175        0.69                  0.43             1.35            10.20  0.59   \n",
       "176        0.68                  0.53             1.46             9.30  0.60   \n",
       "177        0.76                  0.56             1.35             9.20  0.61   \n",
       "\n",
       "     OD280  Proline  Customer_Segment  \n",
       "0     3.92     1065                 1  \n",
       "1     3.40     1050                 1  \n",
       "2     3.17     1185                 1  \n",
       "3     3.45     1480                 1  \n",
       "4     2.93      735                 1  \n",
       "..     ...      ...               ...  \n",
       "173   1.74      740                 3  \n",
       "174   1.56      750                 3  \n",
       "175   1.56      835                 3  \n",
       "176   1.62      840                 3  \n",
       "177   1.60      560                 3  \n",
       "\n",
       "[178 rows x 14 columns]>"
      ]
     },
     "execution_count": 7,
     "metadata": {},
     "output_type": "execute_result"
    }
   ],
   "source": [
    "wine_data.info"
   ]
  },
  {
   "cell_type": "code",
   "execution_count": 8,
   "metadata": {},
   "outputs": [
    {
     "data": {
      "text/plain": [
       "Alcohol                 float64\n",
       "Malic_Acid              float64\n",
       "Ash                     float64\n",
       "Ash_Alcanity            float64\n",
       "Magnesium                 int64\n",
       "Total_Phenols           float64\n",
       "Flavanoids              float64\n",
       "Nonflavanoid_Phenols    float64\n",
       "Proanthocyanins         float64\n",
       "Color_Intensity         float64\n",
       "Hue                     float64\n",
       "OD280                   float64\n",
       "Proline                   int64\n",
       "Customer_Segment          int64\n",
       "dtype: object"
      ]
     },
     "execution_count": 8,
     "metadata": {},
     "output_type": "execute_result"
    }
   ],
   "source": [
    "wine_data.dtypes"
   ]
  },
  {
   "cell_type": "code",
   "execution_count": 9,
   "metadata": {},
   "outputs": [
    {
     "data": {
      "text/plain": [
       "Alcohol                 0\n",
       "Malic_Acid              0\n",
       "Ash                     0\n",
       "Ash_Alcanity            0\n",
       "Magnesium               0\n",
       "Total_Phenols           0\n",
       "Flavanoids              0\n",
       "Nonflavanoid_Phenols    0\n",
       "Proanthocyanins         0\n",
       "Color_Intensity         0\n",
       "Hue                     0\n",
       "OD280                   0\n",
       "Proline                 0\n",
       "Customer_Segment        0\n",
       "dtype: int64"
      ]
     },
     "execution_count": 9,
     "metadata": {},
     "output_type": "execute_result"
    }
   ],
   "source": [
    "wine_data.isnull().sum()"
   ]
  },
  {
   "cell_type": "code",
   "execution_count": 10,
   "metadata": {},
   "outputs": [
    {
     "name": "stdout",
     "output_type": "stream",
     "text": [
      "{'Alcohol': array([14.23, 13.2 , 13.16, 14.37, 13.24, 14.2 , 14.39, 14.06, 14.83,\n",
      "       13.86, 14.1 , 14.12, 13.75, 14.75, 14.38, 13.63, 14.3 , 13.83,\n",
      "       14.19, 13.64, 12.93, 13.71, 12.85, 13.5 , 13.05, 13.39, 13.3 ,\n",
      "       13.87, 14.02, 13.73, 13.58, 13.68, 13.76, 13.51, 13.48, 13.28,\n",
      "       13.07, 14.22, 13.56, 13.41, 13.88, 14.21, 13.9 , 13.94, 13.82,\n",
      "       13.77, 13.74, 13.29, 13.72, 12.37, 12.33, 12.64, 13.67, 12.17,\n",
      "       13.11, 13.34, 12.21, 12.29, 13.49, 12.99, 11.96, 11.66, 13.03,\n",
      "       11.84, 12.7 , 12.  , 12.72, 12.08, 12.67, 12.16, 11.65, 11.64,\n",
      "       12.69, 11.62, 12.47, 11.81, 12.6 , 12.34, 11.82, 12.51, 12.42,\n",
      "       12.25, 12.22, 11.61, 11.46, 12.52, 11.76, 11.41, 11.03, 12.77,\n",
      "       11.45, 11.56, 11.87, 12.07, 12.43, 11.79, 12.04, 12.86, 12.88,\n",
      "       12.81, 12.53, 12.84, 13.36, 13.52, 13.62, 12.87, 13.32, 13.08,\n",
      "       12.79, 13.23, 12.58, 13.17, 13.84, 12.45, 14.34, 12.36, 13.69,\n",
      "       12.96, 13.78, 13.45, 12.82, 13.4 , 12.2 , 14.16, 13.27, 14.13])}\n",
      "{'Malic_Acid': array([1.71, 1.78, 2.36, 1.95, 2.59, 1.76, 1.87, 2.15, 1.64, 1.35, 2.16,\n",
      "       1.48, 1.73, 1.81, 1.92, 1.57, 1.59, 3.1 , 1.63, 3.8 , 1.86, 1.6 ,\n",
      "       2.05, 1.77, 1.72, 1.9 , 1.68, 1.5 , 1.66, 1.83, 1.53, 1.8 , 1.65,\n",
      "       3.99, 3.84, 1.89, 3.98, 4.04, 3.59, 2.02, 1.75, 1.67, 1.7 , 1.97,\n",
      "       1.43, 0.94, 1.1 , 1.36, 1.25, 1.13, 1.45, 1.21, 1.01, 1.17, 1.19,\n",
      "       1.61, 1.51, 1.09, 1.88, 0.9 , 2.89, 0.99, 3.87, 0.92, 3.86, 0.89,\n",
      "       0.98, 2.06, 1.33, 2.83, 1.99, 1.52, 2.12, 1.41, 1.07, 3.17, 2.08,\n",
      "       1.34, 2.45, 2.55, 1.29, 3.74, 2.43, 2.68, 0.74, 1.39, 1.47, 3.43,\n",
      "       2.4 , 4.43, 5.8 , 4.31, 2.13, 4.3 , 2.99, 2.31, 3.55, 1.24, 2.46,\n",
      "       4.72, 5.51, 2.96, 2.81, 2.56, 4.95, 3.88, 3.57, 5.04, 4.61, 3.24,\n",
      "       3.9 , 3.12, 2.67, 3.3 , 5.19, 4.12, 3.03, 3.83, 3.26, 3.27, 3.45,\n",
      "       2.76, 4.36, 3.7 , 3.37, 2.58, 4.6 , 2.39, 2.51, 5.65, 3.91, 4.28,\n",
      "       4.1 ])}\n",
      "{'Ash': array([2.43, 2.14, 2.67, 2.5 , 2.87, 2.45, 2.61, 2.17, 2.27, 2.3 , 2.32,\n",
      "       2.41, 2.39, 2.38, 2.7 , 2.72, 2.62, 2.48, 2.56, 2.28, 2.65, 2.36,\n",
      "       2.52, 3.22, 2.8 , 2.21, 2.84, 2.55, 2.1 , 2.51, 2.31, 2.12, 2.59,\n",
      "       2.29, 2.44, 2.4 , 2.04, 2.6 , 2.42, 2.68, 2.25, 2.46, 1.36, 2.02,\n",
      "       1.92, 2.16, 2.53, 1.7 , 1.75, 2.24, 1.71, 2.23, 1.95, 2.  , 2.2 ,\n",
      "       2.58, 2.26, 2.22, 2.74, 1.98, 1.9 , 1.88, 1.94, 1.82, 2.92, 1.99,\n",
      "       2.19, 3.23, 2.73, 2.13, 2.78, 2.54, 2.64, 2.35, 2.15, 2.75, 2.69,\n",
      "       2.86, 2.37])}\n",
      "{'Ash_Alcanity': array([15.6, 11.2, 18.6, 16.8, 21. , 15.2, 14.6, 17.6, 14. , 16. , 18. ,\n",
      "       11.4, 12. , 17.2, 20. , 16.5, 16.6, 17.8, 25. , 16.1, 17. , 19.4,\n",
      "       22.5, 19.1, 19.5, 19. , 20.5, 15.5, 13.2, 16.2, 18.8, 15. , 17.5,\n",
      "       18.9, 17.4, 12.4, 17.1, 16.4, 16.3, 16.7, 10.6, 18.1, 19.6, 20.4,\n",
      "       24. , 30. , 14.8, 23. , 22.8, 26. , 21.6, 23.6, 18.5, 22. , 20.7,\n",
      "       21.5, 20.8, 28.5, 26.5, 24.5, 23.5, 25.5, 27. ])}\n",
      "{'Magnesium': array([127, 100, 101, 113, 118, 112,  96, 121,  97,  98, 105,  95,  89,\n",
      "        91, 102, 120, 115, 108, 116, 126, 124,  93,  94, 107, 106, 104,\n",
      "       132, 110, 128, 117,  90, 103, 111,  92,  88,  87,  78, 151,  86,\n",
      "       139, 136,  85,  99,  84,  70,  81,  80, 162, 134, 119,  82, 122,\n",
      "       123], dtype=int64)}\n",
      "{'Total_Phenols': array([2.8 , 2.65, 3.85, 3.27, 2.5 , 2.6 , 2.98, 2.95, 2.2 , 3.1 , 3.3 ,\n",
      "       2.85, 2.7 , 3.  , 2.41, 2.61, 2.48, 2.53, 2.63, 2.4 , 2.86, 2.42,\n",
      "       2.35, 2.45, 3.15, 3.25, 2.64, 2.75, 2.88, 2.72, 3.88, 2.96, 3.2 ,\n",
      "       3.4 , 1.98, 2.05, 2.02, 2.1 , 3.5 , 1.89, 2.11, 1.85, 1.1 , 1.88,\n",
      "       3.38, 1.61, 1.95, 1.72, 1.9 , 2.83, 2.  , 1.65, 1.78, 1.92, 1.6 ,\n",
      "       1.45, 1.38, 3.02, 2.55, 3.52, 2.23, 2.56, 1.68, 2.36, 2.74, 3.18,\n",
      "       1.75, 2.46, 1.63, 2.9 , 2.62, 2.13, 2.22, 1.51, 1.3 , 1.15, 1.7 ,\n",
      "       1.62, 1.79, 2.32, 1.54, 1.4 , 1.55, 1.5 , 0.98, 1.93, 1.41, 1.48,\n",
      "       1.8 , 1.74, 2.3 , 1.83, 1.39, 1.35, 1.28, 1.25, 1.59])}\n",
      "{'Flavanoids': array([3.06, 2.76, 3.24, 3.49, 2.69, 3.39, 2.52, 2.51, 2.98, 3.15, 3.32,\n",
      "       2.43, 3.69, 3.64, 2.91, 3.14, 3.4 , 3.93, 3.03, 3.17, 2.41, 2.88,\n",
      "       2.37, 2.61, 2.68, 2.94, 2.19, 2.97, 2.33, 3.25, 3.19, 2.74, 2.53,\n",
      "       2.64, 3.04, 3.29, 3.56, 2.63, 3.  , 2.65, 2.92, 3.54, 3.27, 2.99,\n",
      "       3.74, 2.79, 2.9 , 2.78, 3.23, 3.67, 0.57, 1.09, 1.41, 1.79, 3.1 ,\n",
      "       1.75, 3.18, 2.  , 1.3 , 1.28, 1.02, 2.86, 1.84, 2.89, 2.14, 1.57,\n",
      "       2.03, 1.32, 1.85, 2.55, 2.26, 1.58, 1.59, 2.21, 1.94, 1.69, 1.61,\n",
      "       1.5 , 1.25, 1.46, 2.25, 2.27, 0.99, 2.5 , 3.75, 2.17, 1.36, 2.11,\n",
      "       1.64, 1.92, 1.76, 2.04, 2.58, 2.01, 2.29, 1.6 , 2.09, 5.08, 2.13,\n",
      "       2.24, 2.45, 1.22, 1.2 , 0.58, 0.66, 0.47, 0.6 , 0.48, 0.5 , 0.52,\n",
      "       0.8 , 0.78, 0.55, 0.34, 0.65, 0.76, 1.39, 0.83, 0.63, 1.31, 1.1 ,\n",
      "       0.92, 0.56, 0.7 , 0.68, 0.84, 0.96, 0.49, 0.51, 0.61, 0.75, 0.69])}\n",
      "{'Nonflavanoid_Phenols': array([0.28, 0.26, 0.3 , 0.24, 0.39, 0.34, 0.31, 0.29, 0.22, 0.43, 0.33,\n",
      "       0.4 , 0.32, 0.17, 0.25, 0.27, 0.47, 0.37, 0.42, 0.5 , 0.2 , 0.21,\n",
      "       0.19, 0.63, 0.53, 0.45, 0.55, 0.14, 0.13, 0.35, 0.61, 0.48, 0.52,\n",
      "       0.58, 0.66, 0.6 , 0.41, 0.44, 0.56])}\n",
      "{'Proanthocyanins': array([2.29, 1.28, 2.81, 2.18, 1.82, 1.97, 1.98, 1.25, 1.85, 2.38, 1.57,\n",
      "       1.81, 2.96, 1.46, 1.72, 1.86, 1.66, 2.1 , 1.69, 1.92, 1.45, 1.35,\n",
      "       1.76, 1.95, 1.54, 1.36, 1.44, 1.37, 2.08, 2.34, 1.48, 1.7 , 2.03,\n",
      "       2.19, 2.14, 2.91, 1.87, 1.68, 1.62, 2.45, 2.04, 0.42, 0.41, 0.62,\n",
      "       0.73, 1.03, 2.28, 1.04, 2.5 , 1.96, 1.65, 1.15, 0.95, 2.76, 1.43,\n",
      "       1.77, 1.4 , 2.35, 1.56, 1.34, 1.38, 1.64, 1.63, 1.99, 3.28, 1.31,\n",
      "       1.42, 2.49, 3.58, 1.22, 1.05, 2.01, 1.53, 1.61, 0.83, 1.83, 1.71,\n",
      "       1.9 , 0.94, 0.84, 0.8 , 1.1 , 0.88, 0.81, 0.75, 0.64, 0.55, 1.02,\n",
      "       1.14, 1.3 , 0.68, 0.86, 1.26, 1.55, 2.7 , 0.96, 0.97, 1.11, 1.24,\n",
      "       1.06, 1.41])}\n",
      "{'Color_Intensity': array([ 5.64    ,  4.38    ,  5.68    ,  7.8     ,  4.32    ,  6.75    ,\n",
      "        5.25    ,  5.05    ,  5.2     ,  7.22    ,  5.75    ,  5.      ,\n",
      "        5.6     ,  5.4     ,  7.5     ,  7.3     ,  6.2     ,  6.6     ,\n",
      "        8.7     ,  5.1     ,  5.65    ,  4.5     ,  3.8     ,  3.93    ,\n",
      "        3.52    ,  3.58    ,  4.8     ,  3.95    ,  4.7     ,  5.7     ,\n",
      "        6.9     ,  3.84    ,  4.2     ,  4.6     ,  4.25    ,  3.7     ,\n",
      "        6.13    ,  4.28    ,  5.43    ,  4.36    ,  5.04    ,  5.24    ,\n",
      "        4.9     ,  6.1     ,  8.9     ,  7.2     ,  7.05    ,  6.3     ,\n",
      "        5.85    ,  6.25    ,  6.38    ,  6.      ,  6.8     ,  1.95    ,\n",
      "        3.27    ,  4.45    ,  2.95    ,  5.3     ,  4.68    ,  3.17    ,\n",
      "        2.85    ,  3.05    ,  3.38    ,  3.74    ,  3.35    ,  3.21    ,\n",
      "        2.65    ,  3.4     ,  2.57    ,  2.5     ,  3.9     ,  2.2     ,\n",
      "        2.62    ,  2.45    ,  2.6     ,  2.8     ,  1.74    ,  2.4     ,\n",
      "        3.6     ,  2.15    ,  3.25    ,  2.9     ,  2.3     ,  3.3     ,\n",
      "        2.06    ,  2.94    ,  2.7     ,  2.      ,  3.08    ,  1.9     ,\n",
      "        1.28    ,  2.08    ,  2.76    ,  3.94    ,  3.      ,  2.12    ,\n",
      "        4.1     ,  5.45    ,  7.1     ,  3.85    ,  4.92    ,  4.35    ,\n",
      "        4.4     ,  8.21    ,  4.      ,  7.65    ,  8.42    ,  9.4     ,\n",
      "        8.6     , 10.8     , 10.52    ,  7.6     ,  7.9     ,  9.01    ,\n",
      "       13.      , 11.75    ,  5.88    ,  5.58    ,  5.28    ,  9.58    ,\n",
      "        6.62    , 10.68    , 10.26    ,  8.66    ,  8.5     ,  5.5     ,\n",
      "        9.899999,  9.7     ,  7.7     , 10.2     ,  9.3     ,  9.2     ])}\n",
      "{'Hue': array([1.04 , 1.05 , 1.03 , 0.86 , 1.02 , 1.06 , 1.08 , 1.01 , 1.25 ,\n",
      "       1.17 , 1.15 , 1.2  , 1.28 , 1.07 , 1.13 , 1.23 , 0.96 , 1.09 ,\n",
      "       1.11 , 1.12 , 0.92 , 1.19 , 1.1  , 1.18 , 0.89 , 0.95 , 0.91 ,\n",
      "       0.88 , 0.82 , 0.87 , 1.24 , 0.98 , 0.94 , 1.22 , 1.45 , 0.906,\n",
      "       1.36 , 1.31 , 0.99 , 1.38 , 1.16 , 0.84 , 0.79 , 1.33 , 1.   ,\n",
      "       1.42 , 1.27 , 0.8  , 0.75 , 0.9  , 0.93 , 1.71 , 0.7  , 0.73 ,\n",
      "       0.69 , 0.97 , 0.76 , 0.74 , 0.66 , 0.78 , 0.81 , 0.77 , 0.65 ,\n",
      "       0.6  , 0.58 , 0.54 , 0.55 , 0.57 , 0.59 , 0.48 , 0.61 , 0.56 ,\n",
      "       0.67 , 0.68 , 0.85 , 0.72 , 0.62 , 0.64 ])}\n",
      "{'OD280': array([3.92, 3.4 , 3.17, 3.45, 2.93, 2.85, 3.58, 3.55, 2.82, 2.9 , 2.73,\n",
      "       3.  , 2.88, 2.65, 2.57, 3.36, 3.71, 3.52, 4.  , 3.63, 3.82, 3.2 ,\n",
      "       3.22, 2.77, 3.59, 2.71, 2.87, 3.47, 2.78, 2.51, 2.69, 3.53, 3.38,\n",
      "       3.56, 3.35, 3.33, 3.44, 2.75, 3.1 , 2.91, 3.37, 3.26, 3.03, 3.31,\n",
      "       2.84, 1.82, 1.67, 1.59, 2.46, 2.23, 2.3 , 3.18, 3.48, 1.93, 3.07,\n",
      "       3.16, 3.5 , 3.13, 2.14, 2.48, 2.52, 2.31, 3.12, 3.14, 2.72, 2.01,\n",
      "       3.08, 2.26, 3.21, 2.27, 2.06, 3.3 , 2.96, 2.63, 2.74, 2.83, 2.44,\n",
      "       3.57, 2.42, 3.02, 2.81, 2.5 , 3.19, 2.12, 3.05, 3.39, 3.69, 3.64,\n",
      "       3.28, 1.29, 1.42, 1.36, 1.51, 1.58, 1.27, 1.69, 2.15, 2.47, 2.05,\n",
      "       2.  , 1.68, 1.33, 1.86, 1.62, 1.3 , 1.47, 1.55, 1.48, 1.64, 1.73,\n",
      "       1.96, 1.78, 2.11, 1.75, 1.56, 1.8 , 1.92, 1.83, 1.63, 1.71, 1.74,\n",
      "       1.6 ])}\n",
      "{'Proline': array([1065, 1050, 1185, 1480,  735, 1450, 1290, 1295, 1045, 1510, 1280,\n",
      "       1320, 1150, 1547, 1310, 1130, 1680,  845,  780,  770, 1035, 1015,\n",
      "        830, 1195, 1285,  915, 1515,  990, 1235, 1095,  920,  880, 1105,\n",
      "       1020,  760,  795,  680,  885, 1080,  985, 1060, 1260, 1265, 1190,\n",
      "       1375, 1120,  970, 1270,  520,  450,  630,  420,  355,  678,  502,\n",
      "        510,  750,  718,  870,  410,  472,  886,  428,  392,  500,  463,\n",
      "        278,  714,  515,  495,  562,  625,  480,  290,  345,  937,  660,\n",
      "        406,  710,  438,  415,  672,  315,  488,  312,  325,  607,  434,\n",
      "        385,  407,  372,  564,  465,  365,  380,  378,  352,  466,  342,\n",
      "        580,  530,  560,  600,  650,  695,  720,  590,  550,  855,  425,\n",
      "        675,  640,  725,  620,  570,  615,  685,  470,  740,  835,  840],\n",
      "      dtype=int64)}\n",
      "{'Customer_Segment': array([1, 2, 3], dtype=int64)}\n"
     ]
    }
   ],
   "source": [
    "#To check if there are any special characters in place of values \n",
    "for i in wine_data.columns:\n",
    "    print({i:wine_data[i].unique()})"
   ]
  },
  {
   "cell_type": "markdown",
   "metadata": {},
   "source": [
    "There are no missing or unique values present in our data. We can consider it as clean data"
   ]
  },
  {
   "cell_type": "code",
   "execution_count": 11,
   "metadata": {},
   "outputs": [
    {
     "name": "stdout",
     "output_type": "stream",
     "text": [
      "                       Alcohol  Malic_Acid       Ash  Ash_Alcanity  Magnesium  \\\n",
      "Alcohol               1.000000    0.094397  0.211545     -0.310235   0.270798   \n",
      "Malic_Acid            0.094397    1.000000  0.164045      0.288500  -0.054575   \n",
      "Ash                   0.211545    0.164045  1.000000      0.443367   0.286587   \n",
      "Ash_Alcanity         -0.310235    0.288500  0.443367      1.000000  -0.083333   \n",
      "Magnesium             0.270798   -0.054575  0.286587     -0.083333   1.000000   \n",
      "Total_Phenols         0.289101   -0.335167  0.128980     -0.321113   0.214401   \n",
      "Flavanoids            0.236815   -0.411007  0.115077     -0.351370   0.195784   \n",
      "Nonflavanoid_Phenols -0.155929    0.292977  0.186230      0.361922  -0.256294   \n",
      "Proanthocyanins       0.136698   -0.220746  0.009652     -0.197327   0.236441   \n",
      "Color_Intensity       0.546364    0.248985  0.258887      0.018732   0.199950   \n",
      "Hue                  -0.071747   -0.561296 -0.074667     -0.273955   0.055398   \n",
      "OD280                 0.072343   -0.368710  0.003911     -0.276769   0.066004   \n",
      "Proline               0.643720   -0.192011  0.223626     -0.440597   0.393351   \n",
      "Customer_Segment     -0.328222    0.437776 -0.049643      0.517859  -0.209179   \n",
      "\n",
      "                      Total_Phenols  Flavanoids  Nonflavanoid_Phenols  \\\n",
      "Alcohol                    0.289101    0.236815             -0.155929   \n",
      "Malic_Acid                -0.335167   -0.411007              0.292977   \n",
      "Ash                        0.128980    0.115077              0.186230   \n",
      "Ash_Alcanity              -0.321113   -0.351370              0.361922   \n",
      "Magnesium                  0.214401    0.195784             -0.256294   \n",
      "Total_Phenols              1.000000    0.864564             -0.449935   \n",
      "Flavanoids                 0.864564    1.000000             -0.537900   \n",
      "Nonflavanoid_Phenols      -0.449935   -0.537900              1.000000   \n",
      "Proanthocyanins            0.612413    0.652692             -0.365845   \n",
      "Color_Intensity           -0.055136   -0.172379              0.139057   \n",
      "Hue                        0.433681    0.543479             -0.262640   \n",
      "OD280                      0.699949    0.787194             -0.503270   \n",
      "Proline                    0.498115    0.494193             -0.311385   \n",
      "Customer_Segment          -0.719163   -0.847498              0.489109   \n",
      "\n",
      "                      Proanthocyanins  Color_Intensity       Hue     OD280  \\\n",
      "Alcohol                      0.136698         0.546364 -0.071747  0.072343   \n",
      "Malic_Acid                  -0.220746         0.248985 -0.561296 -0.368710   \n",
      "Ash                          0.009652         0.258887 -0.074667  0.003911   \n",
      "Ash_Alcanity                -0.197327         0.018732 -0.273955 -0.276769   \n",
      "Magnesium                    0.236441         0.199950  0.055398  0.066004   \n",
      "Total_Phenols                0.612413        -0.055136  0.433681  0.699949   \n",
      "Flavanoids                   0.652692        -0.172379  0.543479  0.787194   \n",
      "Nonflavanoid_Phenols        -0.365845         0.139057 -0.262640 -0.503270   \n",
      "Proanthocyanins              1.000000        -0.025250  0.295544  0.519067   \n",
      "Color_Intensity             -0.025250         1.000000 -0.521813 -0.428815   \n",
      "Hue                          0.295544        -0.521813  1.000000  0.565468   \n",
      "OD280                        0.519067        -0.428815  0.565468  1.000000   \n",
      "Proline                      0.330417         0.316100  0.236183  0.312761   \n",
      "Customer_Segment            -0.499130         0.265668 -0.617369 -0.788230   \n",
      "\n",
      "                       Proline  Customer_Segment  \n",
      "Alcohol               0.643720         -0.328222  \n",
      "Malic_Acid           -0.192011          0.437776  \n",
      "Ash                   0.223626         -0.049643  \n",
      "Ash_Alcanity         -0.440597          0.517859  \n",
      "Magnesium             0.393351         -0.209179  \n",
      "Total_Phenols         0.498115         -0.719163  \n",
      "Flavanoids            0.494193         -0.847498  \n",
      "Nonflavanoid_Phenols -0.311385          0.489109  \n",
      "Proanthocyanins       0.330417         -0.499130  \n",
      "Color_Intensity       0.316100          0.265668  \n",
      "Hue                   0.236183         -0.617369  \n",
      "OD280                 0.312761         -0.788230  \n",
      "Proline               1.000000         -0.633717  \n",
      "Customer_Segment     -0.633717          1.000000  \n"
     ]
    }
   ],
   "source": [
    "corr_df = wine_data.corr(method='pearson')\n",
    "print(corr_df)"
   ]
  },
  {
   "cell_type": "code",
   "execution_count": 12,
   "metadata": {},
   "outputs": [
    {
     "data": {
      "image/png": "[encoded data removed]",
      "text/plain": [
       "<Figure size 1440x1440 with 2 Axes>"
      ]
     },
     "metadata": {
      "needs_background": "light"
     },
     "output_type": "display_data"
    }
   ],
   "source": [
    "corr = wine_data.corr()\n",
    "plt.figure(figsize=(20,20))\n",
    "sns.heatmap(corr, vmin=-1.0,vmax=1.0,annot=True)\n",
    "plt.yticks(rotation=0)\n",
    "plt.show()"
   ]
  },
  {
   "cell_type": "markdown",
   "metadata": {},
   "source": [
    "# Q.2 What are the optimum number of principal components in PCA?\n"
   ]
  },
  {
   "cell_type": "markdown",
   "metadata": {},
   "source": [
    "### Creating X & Y"
   ]
  },
  {
   "cell_type": "code",
   "execution_count": 13,
   "metadata": {},
   "outputs": [],
   "source": [
    "X = wine_data.values[:,:-1]\n",
    "Y = wine_data.values[:,-1]"
   ]
  },
  {
   "cell_type": "code",
   "execution_count": 14,
   "metadata": {},
   "outputs": [
    {
     "name": "stdout",
     "output_type": "stream",
     "text": [
      "(178, 13)\n",
      "(178,)\n"
     ]
    }
   ],
   "source": [
    "print(X.shape)\n",
    "print(Y.shape)"
   ]
  },
  {
   "cell_type": "markdown",
   "metadata": {},
   "source": [
    "### Scaling the data"
   ]
  },
  {
   "cell_type": "markdown",
   "metadata": {},
   "source": [
    "As there are different feature variables in X, it can have a possibility of giving more importance to the variables having greater range and give less important to variables having small range which is not suitable. So to overcome this problem scaling is done on the all variables in X, as it will bring all the variables in a same range"
   ]
  },
  {
   "cell_type": "code",
   "execution_count": 15,
   "metadata": {},
   "outputs": [],
   "source": [
    "from sklearn.preprocessing import StandardScaler\n",
    "\n",
    "scaler=StandardScaler()\n",
    "\n",
    "scaler.fit(X)\n",
    "X = scaler.transform(X)"
   ]
  },
  {
   "cell_type": "markdown",
   "metadata": {},
   "source": [
    "### Train-Test Split"
   ]
  },
  {
   "cell_type": "code",
   "execution_count": 16,
   "metadata": {},
   "outputs": [],
   "source": [
    "from sklearn.model_selection import train_test_split  #<1000=in range of 80-20  &  >1000=in range of 70-30\n",
    "\n",
    "#Split the data into test and train\n",
    "X_train,X_test,Y_train,Y_test=train_test_split(X,Y,test_size=0.2,random_state=10)"
   ]
  },
  {
   "cell_type": "code",
   "execution_count": 17,
   "metadata": {},
   "outputs": [
    {
     "name": "stdout",
     "output_type": "stream",
     "text": [
      "(142, 13)\n",
      "(142,)\n",
      "(36, 13)\n",
      "(36,)\n"
     ]
    }
   ],
   "source": [
    "print(X_train.shape)\n",
    "print(Y_train.shape)\n",
    "print(X_test.shape)\n",
    "print(Y_test.shape)"
   ]
  },
  {
   "cell_type": "code",
   "execution_count": 18,
   "metadata": {},
   "outputs": [
    {
     "name": "stdout",
     "output_type": "stream",
     "text": [
      "[0.37156174 0.2019533  0.10959523 0.06202959 0.05758885 0.05272733\n",
      " 0.03940884 0.02534848 0.0211269  0.01982826 0.0180694  0.01202182\n",
      " 0.00874027]\n"
     ]
    }
   ],
   "source": [
    "#Applying PCA\n",
    "from sklearn.decomposition import PCA\n",
    "pca = PCA(n_components=None) #to view the entire eigen vector,no subsetting\n",
    "X_train = pca.fit_transform(X_train)\n",
    "X_test = pca.transform(X_test)\n",
    "explained_variance = pca.explained_variance_ratio_\n",
    "print(explained_variance)"
   ]
  },
  {
   "cell_type": "code",
   "execution_count": 19,
   "metadata": {},
   "outputs": [
    {
     "name": "stdout",
     "output_type": "stream",
     "text": [
      "[0.37156174 0.2019533  0.10959523 0.06202959 0.05758885 0.05272733\n",
      " 0.03940884 0.02534848]\n"
     ]
    }
   ],
   "source": [
    "#Applying PCA\n",
    "from sklearn.decomposition import PCA\n",
    "pca = PCA(n_components=8) #to view the entire eigen vector,no subsetting\n",
    "X_train = pca.fit_transform(X_train)\n",
    "X_test = pca.transform(X_test)\n",
    "explained_variance = pca.explained_variance_ratio_\n",
    "print(explained_variance)"
   ]
  },
  {
   "cell_type": "markdown",
   "metadata": {},
   "source": [
    "The optimum value of principal components in PCA (n) = 8"
   ]
  },
  {
   "cell_type": "markdown",
   "metadata": {},
   "source": [
    "# Q.3 Build a KNN classifier considering optimal number of principal components and value of K and state its score"
   ]
  },
  {
   "cell_type": "code",
   "execution_count": 20,
   "metadata": {},
   "outputs": [],
   "source": [
    "#predicting using the KNeighbors_Classifier\n",
    "from sklearn.neighbors import KNeighborsClassifier\n",
    "model_KNN=KNeighborsClassifier(n_neighbors=int(np.sqrt(len(X_train))),\n",
    "                              metric='euclidean')\n",
    "\n",
    "#euclidean,manhattan,minkowski\n",
    "#fit the model on the data and predict the values\n",
    "model_KNN.fit(X_train,Y_train)\n",
    "\n",
    "Y_pred=model_KNN.predict(X_test)\n",
    "#print(list(zip(Y_test,Y_pred)))"
   ]
  },
  {
   "cell_type": "code",
   "execution_count": 21,
   "metadata": {},
   "outputs": [
    {
     "data": {
      "image/png": "[encoded data removed]",
      "text/plain": [
       "<Figure size 432x288 with 1 Axes>"
      ]
     },
     "metadata": {
      "needs_background": "light"
     },
     "output_type": "display_data"
    },
    {
     "name": "stdout",
     "output_type": "stream",
     "text": [
      "Classification report:\n",
      "              precision    recall  f1-score   support\n",
      "\n",
      "         1.0       1.00      1.00      1.00        10\n",
      "         2.0       1.00      0.94      0.97        18\n",
      "         3.0       0.89      1.00      0.94         8\n",
      "\n",
      "    accuracy                           0.97        36\n",
      "   macro avg       0.96      0.98      0.97        36\n",
      "weighted avg       0.98      0.97      0.97        36\n",
      "\n",
      "Accuracy of the model:  0.9722222222222222\n"
     ]
    }
   ],
   "source": [
    "from sklearn.metrics import confusion_matrix, accuracy_score, classification_report\n",
    "\n",
    "cfm=confusion_matrix(Y_test,Y_pred)\n",
    "sns.heatmap(cfm, annot=True, fmt='g', cbar=False, cmap='BuPu')\n",
    "plt.xlabel('Predicted Values')\n",
    "plt.ylabel('Actual Values')\n",
    "plt.show()\n",
    "\n",
    "\n",
    "print(\"Classification report:\")\n",
    "\n",
    "print(classification_report(Y_test,Y_pred))\n",
    "\n",
    "acc=accuracy_score(Y_test,Y_pred)\n",
    "print(\"Accuracy of the model: \",acc)"
   ]
  },
  {
   "cell_type": "markdown",
   "metadata": {},
   "source": [
    "### Hyper-Parameter Tuning"
   ]
  },
  {
   "cell_type": "code",
   "execution_count": 22,
   "metadata": {},
   "outputs": [
    {
     "name": "stdout",
     "output_type": "stream",
     "text": [
      "Accuracy is 0.9444444444444444 for K-Value: 1\n",
      "Accuracy is 0.9166666666666666 for K-Value: 2\n",
      "Accuracy is 0.9166666666666666 for K-Value: 3\n",
      "Accuracy is 0.9166666666666666 for K-Value: 4\n",
      "Accuracy is 0.9166666666666666 for K-Value: 5\n",
      "Accuracy is 0.9166666666666666 for K-Value: 6\n",
      "Accuracy is 0.9722222222222222 for K-Value: 7\n",
      "Accuracy is 0.9444444444444444 for K-Value: 8\n",
      "Accuracy is 0.9722222222222222 for K-Value: 9\n"
     ]
    }
   ],
   "source": [
    "from sklearn.metrics import accuracy_score\n",
    "my_dict={}\n",
    "for K in range(1,10):\n",
    "    model_KNN=KNeighborsClassifier(n_neighbors=K,metric='euclidean')\n",
    "    model_KNN.fit(X_train,Y_train)\n",
    "    Y_pred=model_KNN.predict(X_test)\n",
    "    print(\"Accuracy is\",accuracy_score(Y_test,Y_pred), \"for K-Value:\",K)\n",
    "    my_dict[K]=accuracy_score(Y_test,Y_pred)"
   ]
  },
  {
   "cell_type": "code",
   "execution_count": null,
   "metadata": {},
   "outputs": [],
   "source": [
    "for k in my_dict:\n",
    "    if my_dict[k]==max(my_dict.values()):\n",
    "        print(k,\":\",my_dict[k])"
   ]
  },
  {
   "cell_type": "markdown",
   "metadata": {},
   "source": [
    "### For k=7"
   ]
  },
  {
   "cell_type": "code",
   "execution_count": 23,
   "metadata": {},
   "outputs": [],
   "source": [
    "#predicting using the KNeighbors_Classifier\n",
    "from sklearn.neighbors import KNeighborsClassifier\n",
    "model_KNN=KNeighborsClassifier(n_neighbors=7, metric='euclidean')\n",
    "\n",
    "#euclidean,manhattan,minkowski\n",
    "#fit the model on the data and predict the values\n",
    "model_KNN.fit(X_train,Y_train)\n",
    "\n",
    "Y_pred=model_KNN.predict(X_test)\n",
    "#print(list(zip(Y_test,Y_pred)))"
   ]
  },
  {
   "cell_type": "code",
   "execution_count": 24,
   "metadata": {
    "scrolled": false
   },
   "outputs": [
    {
     "data": {
      "image/png": "[encoded data removed]",
      "text/plain": [
       "<Figure size 432x288 with 1 Axes>"
      ]
     },
     "metadata": {
      "needs_background": "light"
     },
     "output_type": "display_data"
    },
    {
     "name": "stdout",
     "output_type": "stream",
     "text": [
      "Classification report:\n",
      "              precision    recall  f1-score   support\n",
      "\n",
      "         1.0       1.00      1.00      1.00        10\n",
      "         2.0       1.00      0.94      0.97        18\n",
      "         3.0       0.89      1.00      0.94         8\n",
      "\n",
      "    accuracy                           0.97        36\n",
      "   macro avg       0.96      0.98      0.97        36\n",
      "weighted avg       0.98      0.97      0.97        36\n",
      "\n",
      "Accuracy of the model:  0.9722222222222222\n"
     ]
    }
   ],
   "source": [
    "from sklearn.metrics import confusion_matrix, accuracy_score, classification_report\n",
    "\n",
    "cfm=confusion_matrix(Y_test,Y_pred)\n",
    "sns.heatmap(cfm, annot=True, fmt='g', cbar=False, cmap='BuPu')\n",
    "plt.xlabel('Predicted Values')\n",
    "plt.ylabel('Actual Values')\n",
    "plt.show()\n",
    "\n",
    "\n",
    "print(\"Classification report:\")\n",
    "\n",
    "print(classification_report(Y_test,Y_pred))\n",
    "\n",
    "acc=accuracy_score(Y_test,Y_pred)\n",
    "print(\"Accuracy of the model: \",acc)"
   ]
  },
  {
   "cell_type": "markdown",
   "metadata": {},
   "source": [
    "### For k=9"
   ]
  },
  {
   "cell_type": "code",
   "execution_count": 25,
   "metadata": {},
   "outputs": [],
   "source": [
    "#predicting using the KNeighbors_Classifier\n",
    "from sklearn.neighbors import KNeighborsClassifier\n",
    "model_KNN=KNeighborsClassifier(n_neighbors=9, metric='euclidean')\n",
    "\n",
    "#euclidean,manhattan,minkowski\n",
    "#fit the model on the data and predict the values\n",
    "model_KNN.fit(X_train,Y_train)\n",
    "\n",
    "Y_pred=model_KNN.predict(X_test)\n",
    "#print(list(zip(Y_test,Y_pred)))"
   ]
  },
  {
   "cell_type": "code",
   "execution_count": 26,
   "metadata": {},
   "outputs": [
    {
     "data": {
      "image/png": "[encoded data removed]",
      "text/plain": [
       "<Figure size 432x288 with 1 Axes>"
      ]
     },
     "metadata": {
      "needs_background": "light"
     },
     "output_type": "display_data"
    },
    {
     "name": "stdout",
     "output_type": "stream",
     "text": [
      "Classification report:\n",
      "              precision    recall  f1-score   support\n",
      "\n",
      "         1.0       1.00      1.00      1.00        10\n",
      "         2.0       1.00      0.94      0.97        18\n",
      "         3.0       0.89      1.00      0.94         8\n",
      "\n",
      "    accuracy                           0.97        36\n",
      "   macro avg       0.96      0.98      0.97        36\n",
      "weighted avg       0.98      0.97      0.97        36\n",
      "\n",
      "Accuracy of the model:  0.9722222222222222\n"
     ]
    }
   ],
   "source": [
    "from sklearn.metrics import confusion_matrix, accuracy_score, classification_report\n",
    "\n",
    "cfm=confusion_matrix(Y_test,Y_pred)\n",
    "sns.heatmap(cfm, annot=True, fmt='g', cbar=False, cmap='BuPu')\n",
    "plt.xlabel('Predicted Values')\n",
    "plt.ylabel('Actual Values')\n",
    "plt.show()\n",
    "\n",
    "\n",
    "print(\"Classification report:\")\n",
    "\n",
    "print(classification_report(Y_test,Y_pred))\n",
    "\n",
    "acc=accuracy_score(Y_test,Y_pred)\n",
    "print(\"Accuracy of the model: \",acc)"
   ]
  },
  {
   "cell_type": "markdown",
   "metadata": {},
   "source": [
    "#### For k=7 & k= 9 we are getting simliar results with same and a good accuracy score as well as a satisfied clasification report. So we can choose any value of k i.e. either '7' or '9'. It is preferable to go with high value of k as it gets more values for predictions."
   ]
  },
  {
   "cell_type": "markdown",
   "metadata": {},
   "source": [
    "# Q.4 Build a SVM Classifier and tune the hyperparameters to get the optimum model"
   ]
  },
  {
   "cell_type": "code",
   "execution_count": 27,
   "metadata": {},
   "outputs": [],
   "source": [
    "# Fitting SVC to the training set\n",
    "from sklearn.svm import SVC\n",
    "classifier = SVC(kernel='rbf',gamma=0.1,C=1)\n",
    "classifier.fit(X_train,Y_train)\n",
    "#predicting the test set results\n",
    "Y_pred = classifier.predict(X_test)"
   ]
  },
  {
   "cell_type": "code",
   "execution_count": 28,
   "metadata": {},
   "outputs": [
    {
     "data": {
      "image/png": "[encoded data removed]",
      "text/plain": [
       "<Figure size 432x288 with 1 Axes>"
      ]
     },
     "metadata": {
      "needs_background": "light"
     },
     "output_type": "display_data"
    },
    {
     "name": "stdout",
     "output_type": "stream",
     "text": [
      "Classification report:\n",
      "              precision    recall  f1-score   support\n",
      "\n",
      "         1.0       1.00      1.00      1.00        10\n",
      "         2.0       1.00      0.89      0.94        18\n",
      "         3.0       0.80      1.00      0.89         8\n",
      "\n",
      "    accuracy                           0.94        36\n",
      "   macro avg       0.93      0.96      0.94        36\n",
      "weighted avg       0.96      0.94      0.95        36\n",
      "\n",
      "Accuracy of the model:  0.9444444444444444\n"
     ]
    }
   ],
   "source": [
    "from sklearn.metrics import confusion_matrix, accuracy_score, classification_report\n",
    "\n",
    "cfm=confusion_matrix(Y_test,Y_pred)\n",
    "sns.heatmap(cfm, annot=True, fmt='g', cbar=False, cmap='BuPu')\n",
    "plt.xlabel('Predicted Values')\n",
    "plt.ylabel('Actual Values')\n",
    "plt.show()\n",
    "\n",
    "print(\"Classification report:\")\n",
    "\n",
    "print(classification_report(Y_test,Y_pred))\n",
    "\n",
    "acc=accuracy_score(Y_test,Y_pred)\n",
    "print(\"Accuracy of the model: \",acc)"
   ]
  },
  {
   "cell_type": "markdown",
   "metadata": {},
   "source": [
    "# Q.5 Build a Naive Bayes Classifier and comment about its accuracy."
   ]
  },
  {
   "cell_type": "code",
   "execution_count": 29,
   "metadata": {},
   "outputs": [],
   "source": [
    "from sklearn.naive_bayes import BernoulliNB\n",
    "\n",
    "model_NB = BernoulliNB()\n",
    "\n",
    "#fit the model on the data and predict the values\n",
    "model_NB.fit(X_train,Y_train)\n",
    "\n",
    "Y_pred = model_NB.predict(X_test)\n",
    "#print(Y_pred)\n",
    "#print(list(zip(Y_test,Y_pred)))"
   ]
  },
  {
   "cell_type": "code",
   "execution_count": 30,
   "metadata": {},
   "outputs": [
    {
     "data": {
      "image/png": "[encoded data removed]",
      "text/plain": [
       "<Figure size 432x288 with 1 Axes>"
      ]
     },
     "metadata": {
      "needs_background": "light"
     },
     "output_type": "display_data"
    },
    {
     "name": "stdout",
     "output_type": "stream",
     "text": [
      "Classification report:\n",
      "              precision    recall  f1-score   support\n",
      "\n",
      "         1.0       1.00      0.90      0.95        10\n",
      "         2.0       0.86      1.00      0.92        18\n",
      "         3.0       1.00      0.75      0.86         8\n",
      "\n",
      "    accuracy                           0.92        36\n",
      "   macro avg       0.95      0.88      0.91        36\n",
      "weighted avg       0.93      0.92      0.92        36\n",
      "\n",
      "Accuracy of the model:  0.9166666666666666\n"
     ]
    }
   ],
   "source": [
    "from sklearn.metrics import confusion_matrix, accuracy_score, classification_report\n",
    "\n",
    "cfm=confusion_matrix(Y_test,Y_pred)\n",
    "sns.heatmap(cfm, annot=True, fmt='g', cbar=False, cmap='BuPu')\n",
    "plt.xlabel('Predicted Values')\n",
    "plt.ylabel('Actual Values')\n",
    "plt.show()\n",
    "\n",
    "print(\"Classification report:\")\n",
    "\n",
    "print(classification_report(Y_test,Y_pred))\n",
    "\n",
    "acc=accuracy_score(Y_test,Y_pred)\n",
    "print(\"Accuracy of the model: \",acc)"
   ]
  },
  {
   "cell_type": "markdown",
   "metadata": {},
   "source": [
    "# Q.6 Compare all of the models and justify your choice about the optimum model."
   ]
  },
  {
   "cell_type": "markdown",
   "metadata": {},
   "source": [
    "From all the models we built on the dataset KNN was the best Model to be used -\n",
    "1. It gave a high accuracy score of 97.22%\n",
    "2. We found 2 optimum values for k (7 & 9)\n",
    "3. The recall values, precision values, F1 score  (i.e. classification report) was satisfying.\n",
    "4. Only 1 value was misclassified.\n",
    "5. So, with all the points taken into consideration ,KNN is a good choice for Optimum Model."
   ]
  },
  {
   "cell_type": "code",
   "execution_count": null,
   "metadata": {},
   "outputs": [],
   "source": []
  },
  {
   "cell_type": "code",
   "execution_count": null,
   "metadata": {},
   "outputs": [],
   "source": []
  }
 ],
 "metadata": {
  "kernelspec": {
   "display_name": "Python 3",
   "language": "python",
   "name": "python3"
  },
  "language_info": {
   "codemirror_mode": {
    "name": "ipython",
    "version": 3
   },
   "file_extension": ".py",
   "mimetype": "text/x-python",
   "name": "python",
   "nbconvert_exporter": "python",
   "pygments_lexer": "ipython3",
   "version": "3.7.6"
  }
 },
 "nbformat": 4,
 "nbformat_minor": 4
}
